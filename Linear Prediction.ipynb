{
 "cells": [
  {
   "cell_type": "code",
   "execution_count": 13,
   "metadata": {
    "collapsed": false
   },
   "outputs": [
    {
     "name": "stdout",
     "output_type": "stream",
     "text": [
      "Populating the interactive namespace from numpy and matplotlib\n"
     ]
    }
   ],
   "source": [
    "%pylab inline\n",
    "\n",
    "import pandas as pd\n",
    "from scipy.linalg import hankel, svd, pinv, inv\n",
    "\n",
    "import scipy.linalg as LA"
   ]
  },
  {
   "cell_type": "code",
   "execution_count": 3,
   "metadata": {
    "collapsed": false
   },
   "outputs": [],
   "source": [
    "#data\n",
    "\n",
    "data = array([ 391.54788285,  389.7249173 ,  402.79749586,  409.40396389,\n",
    "        421.41442439,  454.72998201,  663.2059145 ,  685.36737838,\n",
    "        779.46751955,  816.61048881,  811.20931519,  726.01863819,\n",
    "        679.90767767,  795.08615631,  742.11109049,  769.83279499,\n",
    "        686.02182736,  487.28423186,  403.86948873,  408.74254241,\n",
    "        338.42417135,  333.39510729,  318.0165695 ,  346.49627497,\n",
    "        435.8738527 ,  564.73871386,  591.98231172,  556.11552783,\n",
    "        711.50455072,  659.60534338,  666.62782932,  742.66363333,\n",
    "        746.58028554,  700.2348443 ,  733.59405276,  708.35510896,\n",
    "        590.48395073,  654.09359168,  476.00003581,  441.24445147,\n",
    "        359.58450425,  337.32937411])"
   ]
  },
  {
   "cell_type": "code",
   "execution_count": 5,
   "metadata": {
    "collapsed": false
   },
   "outputs": [
    {
     "data": {
      "text/plain": [
       "[<matplotlib.lines.Line2D at 0x10c23e278>]"
      ]
     },
     "execution_count": 5,
     "metadata": {},
     "output_type": "execute_result"
    },
    {
     "data": {
      "image/png": "[encoded data removed]",
      "text/plain": [
       "<matplotlib.figure.Figure at 0x10c06bac8>"
      ]
     },
     "metadata": {},
     "output_type": "display_data"
    }
   ],
   "source": [
    "plot(data)"
   ]
  },
  {
   "cell_type": "code",
   "execution_count": 12,
   "metadata": {
    "collapsed": false
   },
   "outputs": [],
   "source": [
    "def LPSVD(signal, M = None, lfactor = 1/2, removebias = True):\n",
    "\t'''\n",
    "\tA function that performs the linear prediction-singular value decomposition\n",
    "\tof a signal that is assumed to be a linear combination of damped sinusoids\n",
    "\n",
    "\tsignal : ndarray\n",
    "\t\tThe signal to be analyzed\n",
    "\tM : int\n",
    "\t\tModel order, if None, it will be estimated\n",
    "\tlfactor : float\n",
    "\t\tHow to size the Hankel matrix, Tufts and Kumaresan suggest 1/3-1/2\n",
    "\t\tDefault number of prediction coefficients is half the number of points in the input wave\n",
    "\tremovebias\t: bool\n",
    "\t\tIf true bias will be removed from the singular values of A\n",
    "\n",
    "\t'''\n",
    "\n",
    "\tif lfactor > 3/4:\n",
    "\t\tprint(\"You attempted to use an lfactor greater than 3/4, it has been set to 3/4\")\n",
    "\t\tlfactor=3/4\n",
    "\n",
    "\tN = len(signal)\t#length of signal\n",
    "\tL = int(np.floor(N*lfactor))\t#Sizing of the Hankel matrix, i.e. the backward prediction matrix\n",
    "\n",
    "\trollsig = np.roll(signal,-1)\t\t\t\t\t#Shift the signal forward by 1\n",
    "\tA = hankel(rollsig[:N-L],signal[L:])\t#Generate the Hankel matrix\n",
    "\n",
    "\tA = np.conj(A)\t\t#Take the conjugate of the Hankel Matrix to form the prediction matrix\n",
    "\n",
    "\th = signal[:N-L]\t#Set up the data vector, the vector to be \"predicted\"\n",
    "\th = np.conj(h)\t\t#Take the conjugate\n",
    "\n",
    "\tU, S, VT = svd(A)\t#Perform an SVD on the Hankel Matrix\n",
    "\n",
    "\t#We can estimate the model order if the user hasn't selected one\n",
    "\tif M is None:\n",
    "\t\tM  = estimate_model_order(S,N,L)+8\n",
    "\t\tprint(\"Estimated model order: {}\".format(M))\n",
    "\n",
    "\n",
    "\tif M > len(S):\n",
    "\t\tM = len(S)\n",
    "\t\tprint(\"M too large, set to max = \".format(M))\n",
    "\n",
    "\t#remove bias if needed\n",
    "\tif removebias:\n",
    "\t\t#Here we subtract the arithmatic mean of the singular values determined to be\n",
    "\t\t#noise from the rest of the singular values as described in Barkhuijsen\n",
    "\t\tS -= S[M:].mean()\n",
    "\n",
    "\tS = 1/S[:M]\t#invert S and truncate\n",
    "\n",
    "\t#Redimension the matrices to speed up the matrix multiplication step\n",
    "\tVT = VT[:M,:]\t#Make VT the \"right\" size\n",
    "\tU = U[:,:M]\t\t#Make U the \"right\" size\n",
    "\n",
    "\t#Now we can generate the LP coefficients\n",
    "\tlp_coefs = -1*np.conj(VT.T).dot(np.diag(S)).dot(np.conj(U.T)).dot(h)\n",
    "\n",
    "\t#Error check: are there any NaNs or INFs in lp_coefs?\n",
    "\tif not np.isfinite(lp_coefs).all():\n",
    "\t\traise ValueError(\"There has been an error generating the prediction-error filter polynomial\")\n",
    "\n",
    "\t#Need to add 1 to the beginning of lp_coefs before taking roots\n",
    "\tlp_coefs = np.insert(lp_coefs,0,1)\n",
    "\n",
    "\t#I can now find the roots of B (assuming B represents the coefficients of a polynomial)\n",
    "\t#Note that NumPy defines polynomial coefficients with the larges power first\n",
    "\t#so we have to reverse the coefficients before finding the roots.\n",
    "\tmyroots = np.roots(lp_coefs[::-1])\n",
    "\n",
    "\t#Remove the poles that lie within the unit circle on the complex plane as directed by Kurmaresan\n",
    "\t#Actually it seems the correct thing to do is to remove roots with positive damping constants\n",
    "\tusedroots = np.array([np.conj(np.log(root)) for root in myroots if np.abs(root) <= 1])\n",
    "\n",
    "\t#Error checking: see if we removed all roots!\n",
    "\tif len(usedroots) == 0:\n",
    "\t\traise ValueError(\"There has been an error finding the real poles\")\n",
    "\n",
    "\t#sort by freqs\n",
    "\tusedroots = usedroots[np.imag(usedroots).argsort()]\n",
    "\t#Lets make a DataFrame with dimension labels to store all our parameters\n",
    "\tLPSVD_coefs = pd.DataFrame(columns = ['amps','freqs','damps','phase'])\n",
    "\n",
    "\t#We can directly convert our poles into estimated damping factors and frequencies\n",
    "\tLPSVD_coefs.damps = np.real(usedroots)\n",
    "\tLPSVD_coefs.freqs = np.imag(usedroots)/(2*np.pi)\n",
    "\n",
    "\t#But we need to do a little more work to get the predicted amplitudes and phases\n",
    "\t#Here we generate our basis matrix\n",
    "\tbasis = np.array([np.exp(np.arange(len(signal))*root) for root in usedroots])\n",
    "\n",
    "\t#Take the inverse\n",
    "\tpinvBasis = pinv(basis)\n",
    "\n",
    "\t#And apply it to our signal to recover our predicted amplitudes\n",
    "\t#Amps here are complex meaning it has amplitude and phase information\n",
    "\tcAmps = pinvBasis.T.dot(signal)\n",
    "\n",
    "\tLPSVD_coefs.amps = np.abs(cAmps)\n",
    "\tLPSVD_coefs.phase = np.angle(cAmps)\n",
    "\n",
    "\t#Calculate the errors\n",
    "\t#calc_LPSVD_error(LPSVD_coefs,signal)\n",
    "\n",
    "\treturn LPSVD_coefs#, Errors\n",
    "\n",
    "def estimate_model_order(s,N,L):\n",
    "    '''\n",
    "    Adapted from from Complex Exponential Analysis by Greg Reynolds\n",
    "    http://www.mathworks.com/matlabcentral/fileexchange/12439-complex-exponential-analysis/\n",
    "    Use the MDL method as in Lin (1997) to compute the model\n",
    "    order for the signal. You must pass the vector of\n",
    "    singular values, i.e. the result of svd(T) and\n",
    "    N and L. This method is best explained by Scharf (1992).\n",
    "\n",
    "    Parameters\n",
    "    ----------\n",
    "    s : ndarray\n",
    "        singular values from SVD decomposition\n",
    "    N : int\n",
    "    L : int\n",
    "\n",
    "    Returns\n",
    "    -------\n",
    "    M : float\n",
    "        Estimated model order\n",
    "    '''\n",
    "    MDL = np.zeros(L)\n",
    "    \n",
    "    for i in range(L):\n",
    "        MDL[i] = -N*np.log(s[i:L]).sum()\n",
    "        MDL[i] += N*(L-i)*np.log(s[i:L].sum()/(L-i))\n",
    "        MDL[i] += i*(2*L-i)*np.log(N)/2;\n",
    "\n",
    "    return MDL.argmin()\n",
    "\n",
    "def reconstruct_signal(LPSVD_coefs, signal ,ampcutoff = 0, freqcutoff = 0, dampcutoff = 0):\n",
    "    '''\n",
    "    #A function that reconstructs the original signal in the time domain and frequency domain\n",
    "    #from the LPSVD algorithms coefficients, which are passed as LPSVD_coefs\n",
    "    #http://mathworld.wolfram.com/FourierTransformLorentzianFunction.html\n",
    "\n",
    "    WAVE LPSVD_coefs\t\t#coefficients from the LPSVD algorithm\n",
    "    String name\t\t\t\t#Name of the generated waves\n",
    "    Variable length\t\t\t#Length of the time domain signal\n",
    "    Variable timeStep\t\t#Sampling frequency with which the signal was recorded, in fs\n",
    "    Variable dataReal\t\t#Should the output time domain data be real?\n",
    "    Variable ampcutoff\t\t#Cutoff for the amplitudes of the components\n",
    "    Variable freqcutoff\t\t#Cutoff for the frequency of the components\n",
    "    Variable dampcutoff\t\t#Cutoff for the damping of the components\n",
    "    '''\n",
    "\n",
    "    #Initialize time domain signal\n",
    "    time_domain = np.zeros_like(signal,dtype=complex)\n",
    "    p = np.arange(len(signal))\n",
    "\n",
    "    for i, row in LPSVD_coefs.iterrows():\n",
    "        damp = -row.damps/np.pi\n",
    "        if row.amps**2 > ampcutoff and damp >= dampcutoff:\n",
    "            #Keep in mind that LPSVD_coefs were constructed agnostic to the actual sampling\n",
    "            #frequency so we will reconstruct it in the same way\n",
    "            amp = row.amps\n",
    "            damp = row.damps\n",
    "            phase = row.phase\n",
    "            freq = row.freqs\n",
    "            time_domain += amp*np.exp(p*complex(damp,2*np.pi*freq)+complex(0,1)*phase)\n",
    "\n",
    "    if signal.dtype != complex:\n",
    "        time_domain = np.real(time_domain)\n",
    "\n",
    "    return time_domain"
   ]
  },
  {
   "cell_type": "code",
   "execution_count": 14,
   "metadata": {
    "collapsed": false
   },
   "outputs": [
    {
     "name": "stdout",
     "output_type": "stream",
     "text": [
      "Estimated model order: 11\n"
     ]
    },
    {
     "data": {
      "text/html": [
       "<div>\n",
       "<table border=\"1\" class=\"dataframe\">\n",
       "  <thead>\n",
       "    <tr style=\"text-align: right;\">\n",
       "      <th></th>\n",
       "      <th>amps</th>\n",
       "      <th>freqs</th>\n",
       "      <th>damps</th>\n",
       "      <th>phase</th>\n",
       "    </tr>\n",
       "  </thead>\n",
       "  <tbody>\n",
       "    <tr>\n",
       "      <th>0</th>\n",
       "      <td>128.361320</td>\n",
       "      <td>-0.048476</td>\n",
       "      <td>-0.009019</td>\n",
       "      <td>-2.885091e+00</td>\n",
       "    </tr>\n",
       "    <tr>\n",
       "      <th>1</th>\n",
       "      <td>615.543182</td>\n",
       "      <td>-0.000000</td>\n",
       "      <td>-0.003321</td>\n",
       "      <td>-1.836796e-16</td>\n",
       "    </tr>\n",
       "    <tr>\n",
       "      <th>2</th>\n",
       "      <td>128.361320</td>\n",
       "      <td>0.048476</td>\n",
       "      <td>-0.009019</td>\n",
       "      <td>2.885091e+00</td>\n",
       "    </tr>\n",
       "  </tbody>\n",
       "</table>\n",
       "</div>"
      ],
      "text/plain": [
       "         amps     freqs     damps         phase\n",
       "0  128.361320 -0.048476 -0.009019 -2.885091e+00\n",
       "1  615.543182 -0.000000 -0.003321 -1.836796e-16\n",
       "2  128.361320  0.048476 -0.009019  2.885091e+00"
      ]
     },
     "execution_count": 14,
     "metadata": {},
     "output_type": "execute_result"
    }
   ],
   "source": [
    "LPSVD(data)"
   ]
  },
  {
   "cell_type": "code",
   "execution_count": null,
   "metadata": {
    "collapsed": true
   },
   "outputs": [],
   "source": []
  }
 ],
 "metadata": {
  "kernelspec": {
   "display_name": "Python 3",
   "language": "python",
   "name": "python3"
  },
  "language_info": {
   "codemirror_mode": {
    "name": "ipython",
    "version": 3
   },
   "file_extension": ".py",
   "mimetype": "text/x-python",
   "name": "python",
   "nbconvert_exporter": "python",
   "pygments_lexer": "ipython3",
   "version": "3.4.3"
  }
 },
 "nbformat": 4,
 "nbformat_minor": 0
}
