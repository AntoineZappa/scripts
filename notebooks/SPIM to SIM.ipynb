{
 "cells": [
  {
   "cell_type": "code",
   "execution_count": 1,
   "metadata": {},
   "outputs": [
    {
     "name": "stdout",
     "output_type": "stream",
     "text": [
      "Populating the interactive namespace from numpy and matplotlib\n"
     ]
    }
   ],
   "source": [
    "%pylab inline\n",
    "import skimage.external.tifffile as tif\n",
    "# import our ability to read and write MRC files\n",
    "import Mrc"
   ]
  },
  {
   "cell_type": "code",
   "execution_count": 2,
   "metadata": {},
   "outputs": [],
   "source": [
    "data_path = \"../fixtures/Test SIM Data\""
   ]
  },
  {
   "cell_type": "code",
   "execution_count": 3,
   "metadata": {},
   "outputs": [
    {
     "name": "stdout",
     "output_type": "stream",
     "text": [
      " Volume in drive E has no label.\n",
      " Volume Serial Number is 2664-1A1C\n",
      "\n",
      " Directory of E:\\Box Sync\\Python\\Scripts\\fixtures\\Test SIM Data\n",
      "\n",
      "01/10/2018  19:48    <DIR>          .\n",
      "01/10/2018  19:48    <DIR>          ..\n",
      "04/10/2017  19:35            50,944 488 nm Bead 21.25_20170410_202122.mrc\n",
      "01/10/2018  19:48    <DIR>          Combined\n",
      "01/10/2018  19:43    <DIR>          YFP 1\n",
      "01/10/2018  19:43    <DIR>          YFP 3\n",
      "               1 File(s)         50,944 bytes\n",
      "               5 Dir(s)  4,807,466,500,096 bytes free\n"
     ]
    }
   ],
   "source": [
    "ls \"$data_path\""
   ]
  },
  {
   "cell_type": "code",
   "execution_count": 4,
   "metadata": {},
   "outputs": [],
   "source": [
    "import glob"
   ]
  },
  {
   "cell_type": "code",
   "execution_count": 175,
   "metadata": {},
   "outputs": [
    {
     "name": "stderr",
     "output_type": "stream",
     "text": [
      "C:\\Users\\hoffmand\\AppData\\Local\\Continuum\\Anaconda3\\lib\\site-packages\\skimage\\external\\tifffile\\tifffile.py:2128: UserWarning: tags are not ordered by code\n",
      "  warnings.warn(\"tags are not ordered by code\")\n"
     ]
    }
   ],
   "source": [
    "data = np.array([tif.imread(path) for path in glob.glob(data_path + \"/RAWYFP*1_ch*.tif\")])"
   ]
  },
  {
   "cell_type": "code",
   "execution_count": 9,
   "metadata": {},
   "outputs": [
    {
     "data": {
      "text/plain": [
       "(3, 80, 256, 256)"
      ]
     },
     "execution_count": 9,
     "metadata": {},
     "output_type": "execute_result"
    }
   ],
   "source": [
    "# orientation, z * phase, y, x\n",
    "data.shape"
   ]
  },
  {
   "cell_type": "code",
   "execution_count": 10,
   "metadata": {},
   "outputs": [
    {
     "data": {
      "text/plain": [
       "(3, 16, 5, 256, 256)"
      ]
     },
     "execution_count": 10,
     "metadata": {},
     "output_type": "execute_result"
    }
   ],
   "source": [
    "# split up axes to be o, z, p, y, x\n",
    "o, zp, y, x = data.shape\n",
    "data.shape = o, -1, 5, y, x\n",
    "data.shape"
   ]
  },
  {
   "cell_type": "code",
   "execution_count": 11,
   "metadata": {},
   "outputs": [],
   "source": [
    "# rearrange so now its z, o, p, y, x\n",
    "data = np.rollaxis(data, 1)"
   ]
  },
  {
   "cell_type": "code",
   "execution_count": 13,
   "metadata": {},
   "outputs": [],
   "source": [
    "# collapse the z, o, p dimensions\n",
    "data = data.reshape(-1, y, x)"
   ]
  },
  {
   "cell_type": "code",
   "execution_count": 15,
   "metadata": {},
   "outputs": [],
   "source": [
    "tif.imsave(data_path + \"/rearranged_data.tif\", data)"
   ]
  },
  {
   "cell_type": "markdown",
   "metadata": {},
   "source": [
    "Everything looks good from a data point of view"
   ]
  },
  {
   "cell_type": "code",
   "execution_count": 13,
   "metadata": {},
   "outputs": [
    {
     "data": {
      "text/plain": [
       "slice(None, None, -1)"
      ]
     },
     "execution_count": 13,
     "metadata": {},
     "output_type": "execute_result"
    }
   ],
   "source": [
    "slice(None, None, -1)"
   ]
  },
  {
   "cell_type": "code",
   "execution_count": 19,
   "metadata": {},
   "outputs": [],
   "source": [
    "def rearrange_spim_data(data, dz=1):\n",
    "    \"\"\"Assumes data with 4 dimensions\"\"\"\n",
    "    # data is orienation, z and p, y, x\n",
    "    o, zp, y, x = data.shape\n",
    "    # reshape so it is o, z, p, y, x\n",
    "    data.shape = o, -1, 5, y, x\n",
    "    # rearrange so now its z, o, p, y, x\n",
    "    data = np.rollaxis(data, 1)\n",
    "    # flip z, collapse the z, o, p dimensions and return\n",
    "    if dz > 0:\n",
    "        # acquired data is in reverse of PSFs\n",
    "        s = slice(None, None, -1)\n",
    "    else:\n",
    "        s = slice(None)\n",
    "    return data[s].reshape(-1, y, x)"
   ]
  },
  {
   "cell_type": "code",
   "execution_count": 172,
   "metadata": {},
   "outputs": [],
   "source": [
    "a = np.ones((2, 3, 4)) * np.arange(1,3)[:, None, None] * np.arange(1,4)[None, :, None] * np.arange(1,5)[None, None]"
   ]
  },
  {
   "cell_type": "code",
   "execution_count": 173,
   "metadata": {},
   "outputs": [
    {
     "data": {
      "text/plain": [
       "array([[  1.,   2.,   3.,   4.,   2.,   4.,   6.,   8.,   3.,   6.,   9.,\n",
       "         12.],\n",
       "       [  2.,   4.,   6.,   8.,   4.,   8.,  12.,  16.,   6.,  12.,  18.,\n",
       "         24.]])"
      ]
     },
     "execution_count": 173,
     "metadata": {},
     "output_type": "execute_result"
    }
   ],
   "source": [
    "a.reshape(2, -1)"
   ]
  },
  {
   "cell_type": "markdown",
   "metadata": {},
   "source": [
    "# Read info"
   ]
  },
  {
   "cell_type": "code",
   "execution_count": 6,
   "metadata": {},
   "outputs": [],
   "source": [
    "import re"
   ]
  },
  {
   "cell_type": "code",
   "execution_count": 7,
   "metadata": {},
   "outputs": [],
   "source": [
    "def get_center_wavlength(emission_filter):\n",
    "    razor_edge_wl_re = re.compile(r\"(\\d+)(?=(?:\\s*nm)?(?:\\s*)?Razor Edge)\")\n",
    "    band_pass_re = re.compile(r\"(\\d+)\\/(\\d+)\")\n",
    "    short_pass_re = re.compile(r\"(\\d+)(?:\\s*nm\\s*)\")\n",
    "    \n",
    "    razor_edge = razor_edge_wl_re.findall(emission_filter)\n",
    "    band_pass = band_pass_re.findall(emission_filter)\n",
    "    short_pass = short_pass_re.findall(emission_filter)\n",
    "    \n",
    "    try:\n",
    "        short_side = int(razor_edge[0])\n",
    "    except IndexError:\n",
    "        short_side = np.nan\n",
    "        \n",
    "    try:\n",
    "        bandcenter, bandwidth = np.array(band_pass[0], float)\n",
    "    except IndexError:\n",
    "        bandcenter, bandwidth = np.nan, np.nan\n",
    "    \n",
    "    band_short = bandcenter - bandwidth / 2\n",
    "    band_long = bandcenter + bandwidth / 2\n",
    "    \n",
    "    try:\n",
    "        long_side = int(short_pass[0])\n",
    "    except IndexError:\n",
    "        long_side = np.nan\n",
    "        \n",
    "    short_side = np.nanmin((short_side, band_short))\n",
    "    long_side = np.nanmin((long_side, band_long))\n",
    "    \n",
    "    return np.nanmean((short_side, long_side))"
   ]
  },
  {
   "cell_type": "code",
   "execution_count": 8,
   "metadata": {},
   "outputs": [],
   "source": [
    "def parse_settings(path):\n",
    "    re_dz = re.compile(r\"(?:Z Obj Offset\\D*\\d[^-\\d]*)((?:\\s*-?\\d+(?:\\.\\d+)?)+)\")\n",
    "    re_dz = re.compile(r\"Z Obj Offset.*\")\n",
    "    re_wl = re.compile(r\"Excitation Filter.*\")\n",
    "\n",
    "    with open(path) as f:\n",
    "        buffer = f.readlines()\n",
    "        dz_str = re_dz.findall(\"\\n\".join(buffer))\n",
    "        wl_str = re_wl.findall(\"\\n\".join(buffer))\n",
    "\n",
    "    _, z0, dz, nz = dz_str[0].split(\"\\t\")\n",
    "\n",
    "    _, emission_filter, laser, power, exposure = wl_str[0].split(\"\\t\")\n",
    "    emission_filter, laser, power, exposure\n",
    "    cwl = get_center_wavlength(emission_filter)\n",
    "\n",
    "    return dict(z0=float(z0), dz=float(dz), nz=int(nz), exposure=float(exposure),\n",
    "                power=float(power), laser=int(laser), center_wl=cwl)"
   ]
  },
  {
   "cell_type": "code",
   "execution_count": 9,
   "metadata": {},
   "outputs": [],
   "source": [
    "def save_mrc(path, data, wl, dz, dr=0.13, **kwargs):\n",
    "    header = Mrc.makeHdrArray()\n",
    "    # initialize it\n",
    "    # set type and shape\n",
    "    Mrc.init_simple(header, 4, data.shape)\n",
    "    # set wavelength in nm\n",
    "    header.wave = wl\n",
    "    # set number of wavelengths\n",
    "    header.NumWaves = 1\n",
    "    # set dimensions\n",
    "    header.d = dr, dr, dz\n",
    "    Mrc.save(data, path, hdr=header, ifExists='overwrite', **kwargs)"
   ]
  },
  {
   "cell_type": "markdown",
   "metadata": {},
   "source": [
    "## Test on VSIM data that saving works"
   ]
  },
  {
   "cell_type": "code",
   "execution_count": 139,
   "metadata": {},
   "outputs": [
    {
     "data": {
      "text/plain": [
       "(450, 256, 256)"
      ]
     },
     "execution_count": 139,
     "metadata": {},
     "output_type": "execute_result"
    }
   ],
   "source": [
    "testd = np.array(Mrc.Mrc(data_path + \"/VSIM_488_test_data.mrc\").data)\n",
    "testd.shape"
   ]
  },
  {
   "cell_type": "code",
   "execution_count": 148,
   "metadata": {},
   "outputs": [],
   "source": [
    "save_mrc(data_path + \"/VSIM_488_test_data2.mrc\", testd, 519, 0.25)"
   ]
  },
  {
   "cell_type": "code",
   "execution_count": 20,
   "metadata": {},
   "outputs": [
    {
     "name": "stderr",
     "output_type": "stream",
     "text": [
      "C:\\Users\\hoffmand\\AppData\\Local\\Continuum\\Anaconda3\\lib\\site-packages\\skimage\\external\\tifffile\\tifffile.py:2128: UserWarning: tags are not ordered by code\n",
      "  warnings.warn(\"tags are not ordered by code\")\n"
     ]
    }
   ],
   "source": [
    "data = np.array([tif.imread(path) for path in glob.glob(data_path + \"/RAWYFP*1_ch*.tif\")])\n",
    "settings = parse_settings(data_path + \"/YFP Cell 1_Settings.txt\")\n",
    "save_mrc(data_path + \"/rearranged_data.mrc\", rearrange_spim_data(data, -1), settings[\"center_wl\"], settings[\"dz\"])"
   ]
  },
  {
   "cell_type": "markdown",
   "metadata": {},
   "source": [
    "# Try Lin's program"
   ]
  },
  {
   "cell_type": "code",
   "execution_count": 5,
   "metadata": {},
   "outputs": [],
   "source": [
    "import os\n",
    "import simrecon_utils as su"
   ]
  },
  {
   "cell_type": "code",
   "execution_count": 6,
   "metadata": {},
   "outputs": [
    {
     "name": "stdout",
     "output_type": "stream",
     "text": [
      "Wall time: 1.78 s\n",
      "Wall time: 2.11 s\n"
     ]
    }
   ],
   "source": [
    "for raw_sub in (\"Combined/YFP 1.mrc\", \"Combined/YFP 3.mrc\"):\n",
    "    base_kwargs = dict(\n",
    "        nphases=5,\n",
    "        ndirs=3,\n",
    "        angle0= -1.292,\n",
    "        negDangle=False,\n",
    "        na= 0.85,\n",
    "        nimm= 1.0,\n",
    "        zoomfact= 2.0,\n",
    "        background= 100.0,\n",
    "        wiener= 0.001,\n",
    "        fastSIM=True,\n",
    "        otfRA= True,\n",
    "        dampenOrder0=True,\n",
    "        k0searchall=True,\n",
    "        equalizez=True,\n",
    "        preciseapo=True,\n",
    "        gammaApo=0.1,\n",
    "        suppressR=1.5\n",
    "    )\n",
    "\n",
    "    base_kwargs.update(dict(gammaApo=0.3, suppressR=1, wiener=0.005))\n",
    "\n",
    "    raw = data_path + \"/\" + raw_sub\n",
    "    otf = data_path + \"/488 nm Bead 21.25_20170410_202122.mrc\"\n",
    "\n",
    "    sim_kwargs = dict(\n",
    "        input_file=raw,\n",
    "        otf_file=otf,\n",
    "        ls=(488/1000)/2/0.81\n",
    "    )\n",
    "    sim_kwargs.update(base_kwargs)\n",
    "    filename = os.path.split(otf)[1]\n",
    "    out_name = sim_kwargs[\"output_file\"] = sim_kwargs[\"input_file\"].replace(\".mrc\", \"_proc.mrc\")\n",
    "\n",
    "    %time sim_output = su.simrecon(**sim_kwargs)\n",
    "    with open(out_name.replace(\".mrc\", \".txt\"), \"w\") as myfile:\n",
    "        myfile.write(str(sim_kwargs))\n",
    "        myfile.write(\"\".join(sim_output))"
   ]
  },
  {
   "cell_type": "code",
   "execution_count": 22,
   "metadata": {},
   "outputs": [
    {
     "name": "stdout",
     "output_type": "stream",
     "text": [
      " Volume in drive E has no label.\n",
      " Volume Serial Number is 2664-1A1C\n",
      "\n",
      " Directory of E:\\Box Sync\\Python\\Scripts\\notebooks\n",
      "\n",
      "01/09/2018  21:11    <DIR>          .\n",
      "01/09/2018  21:11    <DIR>          ..\n",
      "01/09/2018  19:26    <DIR>          .ipynb_checkpoints\n",
      "01/05/2018  16:45           161,383 Checking multiprocessing MacBook.ipynb\n",
      "01/09/2018  19:26           126,561 Checking multiprocessing Windows.ipynb\n",
      "01/09/2018  21:11           124,186 Checking multiprocessing Windows-Copy1.ipynb\n",
      "11/10/2017  13:22         2,457,319 Interactive Plotting.ipynb\n",
      "08/30/2015  21:18            28,332 Linear Prediction.ipynb\n",
      "01/09/2018  19:27            84,558 mydask.png\n",
      "03/07/2016  18:37           328,814 PSFtest.ipynb\n",
      "08/28/2015  15:03         1,377,877 PSFtestv1.1.ipynb\n",
      "09/01/2015  14:08         1,042,241 SIMtest.ipynb\n",
      "01/09/2018  21:06            15,092 SPIM to SIM.ipynb\n",
      "              10 File(s)      5,746,363 bytes\n",
      "               3 Dir(s)  4,830,098,886,656 bytes free\n"
     ]
    }
   ],
   "source": [
    "ls"
   ]
  },
  {
   "cell_type": "code",
   "execution_count": 26,
   "metadata": {},
   "outputs": [
    {
     "data": {
      "text/plain": [
       "True"
      ]
     },
     "execution_count": 26,
     "metadata": {},
     "output_type": "execute_result"
    }
   ],
   "source": [
    "os.path.isdir(\".ipynb_checkpoints\")"
   ]
  },
  {
   "cell_type": "code",
   "execution_count": 52,
   "metadata": {},
   "outputs": [
    {
     "data": {
      "text/plain": [
       "'.ipynb_checkpoints'"
      ]
     },
     "execution_count": 52,
     "metadata": {},
     "output_type": "execute_result"
    }
   ],
   "source": [
    "os.path.dirname(os.path.join(\".ipynb_checkpoints/\", \"\"))"
   ]
  },
  {
   "cell_type": "code",
   "execution_count": null,
   "metadata": {},
   "outputs": [],
   "source": []
  }
 ],
 "metadata": {
  "kernelspec": {
   "display_name": "Python 3",
   "language": "python",
   "name": "python3"
  },
  "language_info": {
   "codemirror_mode": {
    "name": "ipython",
    "version": 3
   },
   "file_extension": ".py",
   "mimetype": "text/x-python",
   "name": "python",
   "nbconvert_exporter": "python",
   "pygments_lexer": "ipython3",
   "version": "3.6.3"
  }
 },
 "nbformat": 4,
 "nbformat_minor": 2
}
